{
 "cells": [
  {
   "cell_type": "code",
   "execution_count": 1,
   "metadata": {},
   "outputs": [
    {
     "name": "stdout",
     "output_type": "stream",
     "text": [
      "Collecting dictdiffer\n",
      "  Downloading dictdiffer-0.8.1-py2.py3-none-any.whl (16 kB)\n",
      "Installing collected packages: dictdiffer\n",
      "Successfully installed dictdiffer-0.8.1\n"
     ]
    }
   ],
   "source": [
    "!pip install dictdiffer"
   ]
  },
  {
   "cell_type": "code",
   "execution_count": 4,
   "metadata": {},
   "outputs": [],
   "source": [
    "from dictdiffer import diff, patch, swap, revert\n"
   ]
  },
  {
   "cell_type": "code",
   "execution_count": 134,
   "metadata": {},
   "outputs": [
    {
     "data": {
      "text/plain": [
       "[('change', 'connectStart', (91, 121)),\n",
       " ('change', 'domInteractive', (712, 834))]"
      ]
     },
     "execution_count": 134,
     "metadata": {},
     "output_type": "execute_result"
    }
   ],
   "source": [
    "timing1 =  {\n",
    "      \"connectStart\": 91,\n",
    "      \"navigationStart\": 0,\n",
    "      \"loadEventEnd\": 1680,\n",
    "      \"domLoading\": 261,\n",
    "      \"secureConnectionStart\": 111,\n",
    "      \"fetchStart\": 0,\n",
    "      \"domContentLoadedEventStart\": 757,\n",
    "      \"responseStart\": 252,\n",
    "      \"responseEnd\": 254,\n",
    "      \"domInteractive\": 712,\n",
    "      \"domainLookupEnd\": 91,\n",
    "      \"redirectStart\": 0,\n",
    "      \"requestStart\": 230,\n",
    "      \"unloadEventEnd\": 0,\n",
    "      \"unloadEventStart\": 0,\n",
    "      \"domComplete\": 1664,\n",
    "      \"domainLookupStart\": 7,\n",
    "      \"loadEventStart\": 1664,\n",
    "      \"domContentLoadedEventEnd\": 761,\n",
    "      \"redirectEnd\": 0,\n",
    "      \"connectEnd\": 230\n",
    "    }\n",
    "\n",
    "\n",
    "timing2 =  {\n",
    "      \"connectStart\": 121,\n",
    "      \"navigationStart\": 0,\n",
    "      \"loadEventEnd\": 1680,\n",
    "      \"domLoading\": 261,\n",
    "      \"secureConnectionStart\": 111,\n",
    "      \"fetchStart\": 0,\n",
    "      \"domContentLoadedEventStart\": 757,\n",
    "      \"responseStart\": 252,\n",
    "      \"responseEnd\": 254,\n",
    "      \"domInteractive\": 834,\n",
    "      \"domainLookupEnd\": 91,\n",
    "      \"redirectStart\": 0,\n",
    "      \"requestStart\": 230,\n",
    "      \"unloadEventEnd\": 0,\n",
    "      \"unloadEventStart\": 0,\n",
    "      \"domComplete\": 1664,\n",
    "      \"domainLookupStart\": 7,\n",
    "      \"loadEventStart\": 1664,\n",
    "      \"domContentLoadedEventEnd\": 761,\n",
    "      \"redirectEnd\": 0,\n",
    "      \"connectEnd\": 230\n",
    "    }\n",
    "\n",
    "results = diff(timing1, timing2)\n",
    "list(results)"
   ]
  },
  {
   "cell_type": "code",
   "execution_count": 135,
   "metadata": {},
   "outputs": [],
   "source": [
    "h1_1 = [\n",
    "    {\n",
    "      \"xpath\": \"/html/body/div[1]/div/main/div[2]/div/div/div[1]/h2\",\n",
    "      \"content\": \"TECHNICAL SEO\"\n",
    "    },\n",
    "    {\n",
    "      \"xpath\": \"/html/body/div[1]/div/main/div[2]/div/div/div[2]/h2\",\n",
    "      \"content\": \"CONTENT\"\n",
    "    },\n",
    "    {\n",
    "      \"xpath\": \"/html/body/div[1]/div/main/div[2]/div/div/div[3]/h2\",\n",
    "      \"content\": \"LOCAL SEO\"\n",
    "    },\n",
    "    {\n",
    "      \"xpath\": \"/html/body/div[1]/div/main/div[2]/div/div/div[4]/h2\",\n",
    "      \"content\": \"LINK BUILDING\"\n",
    "    },\n",
    "    {\n",
    "      \"xpath\": \"/html/body/div[1]/div/main/div[2]/div/div/div[5]/h2\",\n",
    "      \"content\": \"PAY-PER-CLICK\"\n",
    "    },\n",
    "    {\n",
    "      \"xpath\": \"/html/body/div[1]/div/main/div[2]/div/div/div[6]/h2\",\n",
    "      \"content\": \"IMPLEMENTATION\"\n",
    "    },\n",
    "    {\n",
    "      \"xpath\": \"/html/body/div[1]/div/main/div[3]/div/h2\",\n",
    "      \"content\": \"BEST SEO AGENCY AWARD\"\n",
    "    },\n",
    "    {\n",
    "      \"xpath\": \"/html/body/div[1]/div/main/div[4]/div/h2\",\n",
    "      \"content\": \"WE ARE MOZ RECOMMENDED.\"\n",
    "    },\n",
    "    {\n",
    "      \"xpath\": \"/html/body/div[1]/div/main/div[6]/div/div/div[1]/h2\",\n",
    "      \"content\": \"Connect with us.\"\n",
    "    }\n",
    "  ]\n",
    "\n",
    "h1_2 = [\n",
    "    {\n",
    "      \"xpath\": \"/html/body/div[1]/div/main/div[2]/div/div/div[1]/h2\",\n",
    "      \"content\": \"TECHNICAL SEO\"\n",
    "    },\n",
    "    {\n",
    "      \"xpath\": \"/html/body/div[1]/div/main/div[2]/div/div/div[2]/h2\",\n",
    "      \"content\": \"CONTENT\"\n",
    "    },\n",
    "    {\n",
    "      \"xpath\": \"/html/body/div[1]/div/main/div[2]/div/div/div[3]/h2\",\n",
    "      \"content\": \"CONTACT US\"\n",
    "    },\n",
    "    {\n",
    "      \"xpath\": \"/html/body/div[1]/div/main/div[2]/div/div/div[4]/h2\",\n",
    "      \"content\": \"LOCAL SEO\"\n",
    "    },\n",
    "    {\n",
    "      \"xpath\": \"/html/body/div[1]/div/main/div[2]/div/div/div[5]/h2\",\n",
    "      \"content\": \"Link Building\"\n",
    "    },\n",
    "    {\n",
    "      \"xpath\": \"/html/body/div[1]/div/main/div[2]/div/div/div[6]/h2\",\n",
    "      \"content\": \"PAY-PER-CLICK\"\n",
    "    },\n",
    "    {\n",
    "      \"xpath\": \"/html/body/div[1]/div/main/div[2]/div/div/div[7]/h2\",\n",
    "      \"content\": \"IMPLEMENTATION\"\n",
    "    },\n",
    "\n",
    "    {\n",
    "      \"xpath\": \"/html/body/div[1]/div/main/div[6]/div/div/div[1]/h2\",\n",
    "      \"content\": \"Connect with us\"\n",
    "    }\n",
    "  ]\n",
    "\n"
   ]
  },
  {
   "cell_type": "code",
   "execution_count": 140,
   "metadata": {},
   "outputs": [
    {
     "data": {
      "text/plain": [
       "[{'type': 'change',\n",
       "  'item': '/html/body/div[1]/div/main/div[2]/div/div/div[3]/h2',\n",
       "  'before': 'LOCAL SEO',\n",
       "  'after': 'CONTACT US'},\n",
       " {'type': 'change',\n",
       "  'item': '/html/body/div[1]/div/main/div[2]/div/div/div[4]/h2',\n",
       "  'before': 'LINK BUILDING',\n",
       "  'after': 'LOCAL SEO'},\n",
       " {'type': 'change',\n",
       "  'item': '/html/body/div[1]/div/main/div[2]/div/div/div[5]/h2',\n",
       "  'before': 'PAY-PER-CLICK',\n",
       "  'after': 'Link Building'},\n",
       " {'type': 'change',\n",
       "  'item': '/html/body/div[1]/div/main/div[2]/div/div/div[6]/h2',\n",
       "  'before': 'IMPLEMENTATION',\n",
       "  'after': 'PAY-PER-CLICK'},\n",
       " {'type': 'change',\n",
       "  'item': '/html/body/div[1]/div/main/div[6]/div/div/div[1]/h2',\n",
       "  'before': 'Connect with us.',\n",
       "  'after': 'Connect with us'},\n",
       " {'type': 'add',\n",
       "  'item': '/html/body/div[1]/div/main/div[2]/div/div/div[7]/h2',\n",
       "  'content': 'IMPLEMENTATION'},\n",
       " {'type': 'remove',\n",
       "  'item': '/html/body/div[1]/div/main/div[3]/div/h2',\n",
       "  'content': 'BEST SEO AGENCY AWARD'},\n",
       " {'type': 'remove',\n",
       "  'item': '/html/body/div[1]/div/main/div[4]/div/h2',\n",
       "  'content': 'WE ARE MOZ RECOMMENDED.'}]"
      ]
     },
     "execution_count": 140,
     "metadata": {},
     "output_type": "execute_result"
    }
   ],
   "source": [
    "from dictdiffer import diff, patch, swap, revert\n",
    "\n",
    "\n",
    "def l2d(l1,l2):\n",
    "    d1 = {i['xpath']:i['content'] for i in l1 if i['xpath'] and len(i['xpath'])}\n",
    "    d2 = {i['xpath']:i['content'] for i in l2 if i['xpath'] and len(i['xpath'])}\n",
    "    return d1,d2\n",
    "\n",
    "def item_change(diffs):\n",
    "    \n",
    "    results = []\n",
    "    \n",
    "    for diff in diffs:\n",
    "        ctype, element, details = diff\n",
    "\n",
    "        if ctype == \"change\":\n",
    "            results.append({'type': ctype, 'item': element, 'before': details[0], 'after': details[1]})\n",
    "        else:\n",
    "            for item in details:\n",
    "                results.append({'type': ctype, 'item': item[0], 'content': item[1]})\n",
    "    \n",
    "    return results\n",
    "\n",
    "def diff_changes(d1, d2):\n",
    "    d1, d2 = l2d(d1,d2)\n",
    "    results = diff(d1, d2)\n",
    "    return item_change(results)\n",
    "\n",
    "diff_changes(h1_1, h1_2)"
   ]
  },
  {
   "cell_type": "code",
   "execution_count": 143,
   "metadata": {},
   "outputs": [
    {
     "data": {
      "text/plain": [
       "[{'type': 'change', 'item': 'connectStart', 'before': 91, 'after': 121},\n",
       " {'type': 'change', 'item': 'domInteractive', 'before': 712, 'after': 834}]"
      ]
     },
     "execution_count": 143,
     "metadata": {},
     "output_type": "execute_result"
    }
   ],
   "source": [
    "item_change(diff(timing1, timing2))"
   ]
  },
  {
   "cell_type": "code",
   "execution_count": 127,
   "metadata": {},
   "outputs": [],
   "source": [
    "typ, element, changes = results[3]"
   ]
  },
  {
   "cell_type": "code",
   "execution_count": 128,
   "metadata": {},
   "outputs": [
    {
     "name": "stdout",
     "output_type": "stream",
     "text": [
      "change\n",
      "/html/body/div[1]/div/main/div[2]/div/div/div[6]/h2\n",
      "('IMPLEMENTATION', 'PAY-PER-CLICK')\n"
     ]
    }
   ],
   "source": [
    "print(typ)\n",
    "print(element)\n",
    "print(changes)\n"
   ]
  },
  {
   "cell_type": "code",
   "execution_count": 96,
   "metadata": {},
   "outputs": [
    {
     "data": {
      "text/plain": [
       "{'dictionary_item_added': [root['/html/body/div[1]/div/main/div[2]/div/div/div[7]/h2']],\n",
       " 'values_changed': {\"root['/html/body/div[1]/div/main/div[2]/div/div/div[6]/h2']\": {'new_value': 'PAY-PER-CLICK',\n",
       "   'old_value': 'IMPLEMENTATION'},\n",
       "  \"root['/html/body/div[1]/div/main/div[2]/div/div/div[5]/h2']\": {'new_value': 'Link Building',\n",
       "   'old_value': 'PAY-PER-CLICK'},\n",
       "  \"root['/html/body/div[1]/div/main/div[2]/div/div/div[3]/h2']\": {'new_value': 'CONTACT US',\n",
       "   'old_value': 'LOCAL SEO'},\n",
       "  \"root['/html/body/div[1]/div/main/div[2]/div/div/div[4]/h2']\": {'new_value': 'LOCAL SEO',\n",
       "   'old_value': 'LINK BUILDING'},\n",
       "  \"root['/html/body/div[1]/div/main/div[6]/div/div/div[1]/h2']\": {'new_value': 'Connect with us',\n",
       "   'old_value': 'Connect with us.'}}}"
      ]
     },
     "execution_count": 96,
     "metadata": {},
     "output_type": "execute_result"
    }
   ],
   "source": [
    "from deepdiff import DeepDiff\n",
    "\n",
    "d1, d2 = l2d(h1_1, h1_2)\n",
    "\n",
    "results = DeepDiff(d1, d2)\n",
    "results"
   ]
  },
  {
   "cell_type": "code",
   "execution_count": 181,
   "metadata": {},
   "outputs": [
    {
     "data": {
      "text/plain": [
       "{'set_item'}"
      ]
     },
     "execution_count": 181,
     "metadata": {},
     "output_type": "execute_result"
    }
   ],
   "source": [
    "st = {'set_item'}\n",
    "st"
   ]
  },
  {
   "cell_type": "code",
   "execution_count": 182,
   "metadata": {},
   "outputs": [
    {
     "data": {
      "text/plain": [
       "'set_item'"
      ]
     },
     "execution_count": 182,
     "metadata": {},
     "output_type": "execute_result"
    }
   ],
   "source": [
    "''.join(st)"
   ]
  },
  {
   "cell_type": "code",
   "execution_count": 197,
   "metadata": {},
   "outputs": [],
   "source": [
    "from dictdiffer import diff\n",
    "\n",
    "def compare_lists_of_objects(l1, l2, key_attr, content_attr, tolerance=None):\n",
    "\n",
    "    # Changes list to dict based on given key_attr and content_attr values.\n",
    "    d1, d2 = l2d(l1, l2, key_attr, content_attr)\n",
    "\n",
    "    return compare_objects(d1, d2, tolerance=tolerance)\n",
    "\n",
    "\n",
    "def compare_objects(d1, d2, tolerance=None):\n",
    "    \n",
    "    tolerance = tolerance or 0\n",
    "    \n",
    "    if isinstance(d1, list) and isinstance(d2, list):\n",
    "        otype = 'set'\n",
    "        d1, d2 = set(d1), set(d2)\n",
    "    elif isinstance(d1, set) and isinstance(d1, set):\n",
    "        otype = 'set'\n",
    "        pass\n",
    "    elif isinstance(d1, dict) and isinstance(d1, dict):\n",
    "        otype = 'dict'\n",
    "    else:\n",
    "        raise AttributeError('Unsupported object types provided.  Supports `list`, `set`, or `dict`')\n",
    "    \n",
    "    \n",
    "    diffs = diff(d1, d2, tolerance=tolerance)\n",
    "\n",
    "    return format_diffs(diffs, otype)\n",
    "\n",
    "\n",
    "def format_diffs(diffs, otype):\n",
    "\n",
    "    results = []\n",
    "\n",
    "    for diff in diffs:\n",
    "        ctype, element, details = diff\n",
    "        \n",
    "        new = not element\n",
    "        \n",
    "        '''\n",
    "        ('add',\n",
    "          '',\n",
    "          [('/html/head[1]', ['LOCOMOTIVE - Enterprise Technical SEO Agency'])])]\n",
    "        '''\n",
    "        \n",
    "        if ctype == \"change\":\n",
    "            results.append({'type': ctype, 'item': \"{}.{}\".format(*(element)), 'before': details[0], 'after': details[1]})\n",
    "        else:\n",
    "            for detail in details:\n",
    "                \n",
    "                content = detail[1]\n",
    "                \n",
    "                if otype == 'dict' and new:\n",
    "                    item = detail[0]\n",
    "                    content = detail[1][0]\n",
    "                elif otype == 'dict':\n",
    "                    item = \"{}.{}\".format(element, detail[0])\n",
    "                    content = detail[1]\n",
    "                else:\n",
    "                    item = ''.join(detail[1])\n",
    "                    content = None\n",
    "                    \n",
    "                results.append({'type': ctype, 'item': item, 'content': content})\n",
    "\n",
    "    return results\n",
    "\n",
    "\n",
    "def l2d(l1, l2, key_attr, content_attr):\n",
    "    \"\"\"Turns a list of dicts into a dict based on given key attribute and content attribute.\n",
    "        parameters:\n",
    "            l1: <list> first list of dicts.\n",
    "            l2: <list> second list of dicts.\n",
    "            key_attr: <str> dict key to be used as key for new dict.\n",
    "            content_attr: <str> or <list> dict key(s) to be used as value for new dict.\n",
    "    \"\"\"\n",
    "    d1, d2 = {}, {}\n",
    "    \n",
    "    def adder(k, c, o):\n",
    "        if k in o:\n",
    "            o[k] += [c]\n",
    "        else:\n",
    "            o[k] = [c]\n",
    "        \n",
    "    if isinstance(content_attr, str):\n",
    "        _ = [adder(i[key_attr], i[content_attr], d1) for i in l1 if key_attr in i and len(i[key_attr])]\n",
    "        _ = [adder(i[key_attr], i[content_attr], d2) for i in l2 if key_attr in i and len(i[key_attr])]\n",
    "    elif isinstance(content_attr, list):\n",
    "        _ = [adder(i[key_attr], {i[v] for v in content_attr}, d1) for i in l1 if i[key_attr] and len(i[key_attr])]\n",
    "        _ = [adder(i[key_attr], {i[v] for v in content_attr}, d2) for i in l2 if i[key_attr] and len(i[key_attr])]\n",
    "    else:\n",
    "        raise NotImplementedError(\"`content_attr` can only be of type `str` or `list`\")\n",
    "\n",
    "\n",
    "    return d1,d2"
   ]
  },
  {
   "cell_type": "code",
   "execution_count": 190,
   "metadata": {},
   "outputs": [
    {
     "data": {
      "text/plain": [
       "[{'type': 'add', 'item': 'h2.3', 'content': 'Why you should love us.'},\n",
       " {'type': 'change',\n",
       "  'item': 'google_analytics.0',\n",
       "  'before': 'UA-29401593-5',\n",
       "  'after': 'UA-29433593-5'}]"
      ]
     },
     "execution_count": 190,
     "metadata": {},
     "output_type": "execute_result"
    }
   ],
   "source": [
    "content1 =  [\n",
    "        {\n",
    "            \"type\": \"canonical\",\n",
    "            \"content\": \"https://locomotive.agency/category/google/\"\n",
    "        },\n",
    "        {\n",
    "            \"type\": \"title\",\n",
    "            \"content\": \"Google Archives - LOCOMOTIVE\\u00ae\"\n",
    "        },\n",
    "        {\n",
    "            \"type\": \"h1\",\n",
    "            \"content\": \"Google\"\n",
    "        },\n",
    "        {\n",
    "            \"type\": \"h2\",\n",
    "            \"content\": \"Quick Tips that Can Make Your Outreach Process Successful\"\n",
    "        },\n",
    "        {\n",
    "            \"type\": \"h2\",\n",
    "            \"content\": \"The General Data Protection Regulation (GDPR) and Google Analytics Data Retention Update\"\n",
    "        },\n",
    "        {\n",
    "            \"type\": \"h2\",\n",
    "            \"content\": \"Benefits & Reasonings for Posting in Google My Business\"\n",
    "        },\n",
    "        {\n",
    "            \"type\": \"meta_robots\",\n",
    "            \"content\": \"max-snippet:-1, max-image-preview:large, max-video-preview:-1\"\n",
    "        },\n",
    "        {\n",
    "            \"type\": \"open_graph_title\",\n",
    "            \"content\": \"Google Archives - LOCOMOTIVE\\u00ae\"\n",
    "        },\n",
    "        {\n",
    "            \"type\": \"open_graph_type\",\n",
    "            \"content\": \"object\"\n",
    "        },\n",
    "        {\n",
    "            \"type\": \"open_graph_url\",\n",
    "            \"content\": \"https://locomotive.agency/category/google/\"\n",
    "        },\n",
    "        {\n",
    "            \"type\": \"twitter_card\",\n",
    "            \"content\": \"summary_large_image\"\n",
    "        },\n",
    "        {\n",
    "            \"type\": \"twitter_title\",\n",
    "            \"content\": \"Google Archives - LOCOMOTIVE\\u00ae\"\n",
    "        },\n",
    "        {\n",
    "            \"type\": \"google_analytics\",\n",
    "            \"content\": \"UA-29401593-5\"\n",
    "        },\n",
    "        {\n",
    "            \"type\": \"hotjar\",\n",
    "            \"content\": \"1716204\"\n",
    "        },\n",
    "        {\n",
    "            \"type\": \"google_tag_manager\",\n",
    "            \"content\": \"GTM-TCVSKL3\"\n",
    "        }\n",
    "    ]\n",
    "\n",
    "\n",
    "content2 =  [\n",
    "        {\n",
    "            \"type\": \"canonical\",\n",
    "            \"content\": \"https://locomotive.agency/category/google/\"\n",
    "        },\n",
    "        {\n",
    "            \"type\": \"title\",\n",
    "            \"content\": \"Google Archives - LOCOMOTIVE\\u00ae\"\n",
    "        },\n",
    "        {\n",
    "            \"type\": \"h1\",\n",
    "            \"content\": \"Google\"\n",
    "        },\n",
    "        {\n",
    "            \"type\": \"h2\",\n",
    "            \"content\": \"Quick Tips that Can Make Your Outreach Process Successful\"\n",
    "        },\n",
    "        {\n",
    "            \"type\": \"h2\",\n",
    "            \"content\": \"The General Data Protection Regulation (GDPR) and Google Analytics Data Retention Update\"\n",
    "        },\n",
    "        {\n",
    "            \"type\": \"h2\",\n",
    "            \"content\": \"Benefits & Reasonings for Posting in Google My Business\"\n",
    "        },\n",
    "        {\n",
    "            \"type\": \"h2\",\n",
    "            \"content\": \"Why you should love us.\"\n",
    "        },\n",
    "        {\n",
    "            \"type\": \"meta_robots\",\n",
    "            \"content\": \"max-snippet:-1, max-image-preview:large, max-video-preview:-1\"\n",
    "        },\n",
    "        {\n",
    "            \"type\": \"open_graph_title\",\n",
    "            \"content\": \"Google Archives - LOCOMOTIVE\\u00ae\"\n",
    "        },\n",
    "        {\n",
    "            \"type\": \"open_graph_type\",\n",
    "            \"content\": \"object\"\n",
    "        },\n",
    "        {\n",
    "            \"type\": \"open_graph_url\",\n",
    "            \"content\": \"https://locomotive.agency/category/google/\"\n",
    "        },\n",
    "        {\n",
    "            \"type\": \"twitter_card\",\n",
    "            \"content\": \"summary_large_image\"\n",
    "        },\n",
    "        {\n",
    "            \"type\": \"twitter_title\",\n",
    "            \"content\": \"Google Archives - LOCOMOTIVE\\u00ae\"\n",
    "        },\n",
    "        {\n",
    "            \"type\": \"google_analytics\",\n",
    "            \"content\": \"UA-29433593-5\"\n",
    "        },\n",
    "        {\n",
    "            \"type\": \"hotjar\",\n",
    "            \"content\": \"1716204\"\n",
    "        },\n",
    "        {\n",
    "            \"type\": \"google_tag_manager\",\n",
    "            \"content\": \"GTM-TCVSKL3\"\n",
    "        }\n",
    "    ]\n",
    "\n",
    "\n",
    "def format_content(items):\n",
    "    result = []\n",
    "\n",
    "compare_lists_of_objects(content1, content2, 'type', 'content', tolerance=None)"
   ]
  },
  {
   "cell_type": "code",
   "execution_count": 191,
   "metadata": {},
   "outputs": [
    {
     "data": {
      "text/plain": [
       "[{'type': 'change',\n",
       "  'item': '/html/head.0',\n",
       "  'before': 'LOCOMOTIVE® - Enterprise Technical SEO Agency',\n",
       "  'after': 'LOCOMOTIVE - Enterprise Technical SEO Agency'},\n",
       " {'type': 'add',\n",
       "  'item': '/html/head[1]',\n",
       "  'content': 'LOCOMOTIVE - Enterprise Technical SEO Agency'},\n",
       " {'type': 'remove',\n",
       "  'item': '/html/head_remove',\n",
       "  'content': 'LOCOMOTIVE® - Enterprise Technical SEO Agency'}]"
      ]
     },
     "execution_count": 191,
     "metadata": {},
     "output_type": "execute_result"
    }
   ],
   "source": [
    "title1 = [{\n",
    "    \"xpath\": \"/html/head\",\n",
    "    \"content\": \"LOCOMOTIVE\\u00ae - Enterprise Technical SEO Agency\"\n",
    "  },\n",
    "  {\n",
    "    \"xpath\": \"/html/head_remove\",\n",
    "    \"content\": \"LOCOMOTIVE\\u00ae - Enterprise Technical SEO Agency\"\n",
    "  }]\n",
    "\n",
    "title2 = [{\n",
    "    \"xpath\": \"/html/head\",\n",
    "    \"content\": \"LOCOMOTIVE - Enterprise Technical SEO Agency\"\n",
    "  },\n",
    "  {\n",
    "    \"xpath\": \"/html/head[1]\",\n",
    "    \"content\": \"LOCOMOTIVE - Enterprise Technical SEO Agency\"\n",
    "  }]\n",
    "\n",
    "compare_lists_of_objects(title1, title2, 'xpath', 'content', tolerance=None)"
   ]
  },
  {
   "cell_type": "code",
   "execution_count": 192,
   "metadata": {},
   "outputs": [
    {
     "data": {
      "text/plain": [
       "[{'type': 'change',\n",
       "  'item': '/html/body/div[1]/div/main/div[2]/div/div/div[1].0',\n",
       "  'before': 'TECHNICAL SEO',\n",
       "  'after': 'TECHNICAL SEOS'},\n",
       " {'type': 'add',\n",
       "  'item': '/html/body/div[1]/div/main/div[2]/div/div/div[3]',\n",
       "  'content': 'ABOUT'}]"
      ]
     },
     "execution_count": 192,
     "metadata": {},
     "output_type": "execute_result"
    }
   ],
   "source": [
    "# list of Dicts.\n",
    "\n",
    "H21 = [\n",
    "  {\n",
    "    \"xpath\": \"/html/body/div[1]/div/main/div[2]/div/div/div[1]\",\n",
    "    \"content\": \"TECHNICAL SEO\"\n",
    "  },\n",
    "  {\n",
    "    \"xpath\": \"/html/body/div[1]/div/main/div[2]/div/div/div[2]\",\n",
    "    \"content\": \"CONTENT\"\n",
    "  }]\n",
    "    \n",
    "H22 = [\n",
    "  {\n",
    "    \"xpath\": \"/html/body/div[1]/div/main/div[2]/div/div/div[1]\",\n",
    "    \"content\": \"TECHNICAL SEOS\"\n",
    "  },\n",
    "  {\n",
    "    \"xpath\": \"/html/body/div[1]/div/main/div[2]/div/div/div[2]\",\n",
    "    \"content\": \"CONTENT\"\n",
    "  },\n",
    "  {\n",
    "    \"xpath\": \"/html/body/div[1]/div/main/div[2]/div/div/div[3]\",\n",
    "    \"content\": \"ABOUT\"\n",
    "  }]\n",
    "\n",
    "compare_lists_of_objects(H21, H22, 'xpath', 'content', tolerance=None)"
   ]
  },
  {
   "cell_type": "code",
   "execution_count": 193,
   "metadata": {},
   "outputs": [
    {
     "data": {
      "text/plain": [
       "[{'type': 'add', 'item': 'schema/missing', 'content': None},\n",
       " {'type': 'remove', 'item': 'marginal/set', 'content': None}]"
      ]
     },
     "execution_count": 193,
     "metadata": {},
     "output_type": "execute_result"
    }
   ],
   "source": [
    "# If a list is given.\n",
    "\n",
    "oi1 =  [\n",
    "\"marginal/set\",\n",
    "\"images/title_attribute\",\n",
    "\"images/alt_attribute\",\n",
    "\"meta_description/missing\"\n",
    "]\n",
    "\n",
    "\n",
    "oi2 =  [\n",
    "\"images/alt_attribute\",\n",
    "\"images/title_attribute\",\n",
    "\"images/title_attribute\",\n",
    "\"meta_description/missing\",\n",
    "\"schema/missing\"\n",
    "]\n",
    "\n",
    "\n",
    "compare_objects(oi1, oi2, tolerance=None)"
   ]
  },
  {
   "cell_type": "code",
   "execution_count": 194,
   "metadata": {},
   "outputs": [
    {
     "data": {
      "text/plain": [
       "[{'type': 'change',\n",
       "  'item': '/html/body/header/div/a/img.0',\n",
       "  'before': 'https://mk0locomotiveagoonti.kinstacdn.com/wp-content/uploads/2019/05/locomotive-logo-small.png',\n",
       "  'after': 'https://mk0locomotiveagoonti.kinstacdn.com/wp-content/uploads/2019/05/locomotive-logo-large.png'},\n",
       " {'type': 'add',\n",
       "  'item': '/html/body/header/div[2]/a/img',\n",
       "  'content': {'src': 'https://mk0locomotiveagoonti.kinstacdn.com/wp-content/uploads/2019/05/locomotive-logo-contact.png',\n",
       "   'alt': 'Contact'}}]"
      ]
     },
     "execution_count": 194,
     "metadata": {},
     "output_type": "execute_result"
    }
   ],
   "source": [
    "# If a list of dictionaries is given.\n",
    "\n",
    "img1 = [\n",
    "  {\n",
    "    \"xpath\": \"/html/body/nav/div/div/a/img\",\n",
    "    \"content\": {\n",
    "      \"src\": \"https://mk0locomotiveagoonti.kinstacdn.com/wp-content/uploads/2019/05/locomotive-logo-small.png\",\n",
    "      \"alt\": \"LOCOMOTIVE Agency\"\n",
    "    }\n",
    "  },\n",
    "  {\n",
    "    \"xpath\": \"/html/body/header/div/a/img\",\n",
    "    \"content\": {\n",
    "      \"src\": \"https://mk0locomotiveagoonti.kinstacdn.com/wp-content/uploads/2019/05/locomotive-logo-small.png\",\n",
    "      \"alt\": \"LOCOMOTIVE Agency\"\n",
    "    }\n",
    "  }]\n",
    "\n",
    "\n",
    "img2 = [\n",
    "  {\n",
    "    \"xpath\": \"/html/body/nav/div/div/a/img\",\n",
    "    \"content\": {\n",
    "      \"src\": \"https://mk0locomotiveagoonti.kinstacdn.com/wp-content/uploads/2019/05/locomotive-logo-small.png\",\n",
    "      \"alt\": \"LOCOMOTIVE Agency\"\n",
    "    }\n",
    "  },\n",
    "  {\n",
    "    \"xpath\": \"/html/body/header/div/a/img\",\n",
    "    \"content\": {\n",
    "      \"src\": \"https://mk0locomotiveagoonti.kinstacdn.com/wp-content/uploads/2019/05/locomotive-logo-large.png\",\n",
    "      \"alt\": \"LOCOMOTIVE Agency\"\n",
    "    }\n",
    "  },\n",
    "  {\n",
    "    \"xpath\": \"/html/body/header/div[2]/a/img\",\n",
    "    \"content\": {\n",
    "      \"src\": \"https://mk0locomotiveagoonti.kinstacdn.com/wp-content/uploads/2019/05/locomotive-logo-contact.png\",\n",
    "      \"alt\": \"Contact\"\n",
    "    }\n",
    "  }]\n",
    "\n",
    "compare_lists_of_objects(img1, img2, 'xpath', 'content', tolerance=None)"
   ]
  },
  {
   "cell_type": "code",
   "execution_count": 202,
   "metadata": {},
   "outputs": [
    {
     "data": {
      "text/plain": [
       "[{'type': 'change', 'item': 'c.o', 'before': 91, 'after': 121}]"
      ]
     },
     "execution_count": 202,
     "metadata": {},
     "output_type": "execute_result"
    }
   ],
   "source": [
    "timing1 =  {\n",
    "      \"connectStart\": 91,\n",
    "      \"navigationStart\": 0,\n",
    "      \"loadEventEnd\": 1680,\n",
    "      \"domLoading\": 261,\n",
    "      \"secureConnectionStart\": 111,\n",
    "      \"fetchStart\": 0,\n",
    "      \"domContentLoadedEventStart\": 757,\n",
    "      \"responseStart\": 252,\n",
    "      \"responseEnd\": 254,\n",
    "      \"domInteractive\": 712,\n",
    "      \"domainLookupEnd\": 91,\n",
    "      \"redirectStart\": 0,\n",
    "      \"requestStart\": 230,\n",
    "      \"unloadEventEnd\": 0,\n",
    "      \"unloadEventStart\": 0,\n",
    "      \"domComplete\": 1664,\n",
    "      \"domainLookupStart\": 7,\n",
    "      \"loadEventStart\": 1664,\n",
    "      \"domContentLoadedEventEnd\": 761,\n",
    "      \"redirectEnd\": 0,\n",
    "      \"connectEnd\": 230\n",
    "    }\n",
    "\n",
    "\n",
    "timing2 =  {\n",
    "      \"connectStart\": 121,\n",
    "      \"navigationStart\": 0,\n",
    "      \"loadEventEnd\": 1680,\n",
    "      \"domLoading\": 261,\n",
    "      \"secureConnectionStart\": 111,\n",
    "      \"fetchStart\": 0,\n",
    "      \"domContentLoadedEventStart\": 757,\n",
    "      \"responseStart\": 252,\n",
    "      \"responseEnd\": 254,\n",
    "      \"domInteractive\": 834,\n",
    "      \"domainLookupEnd\": 91,\n",
    "      \"redirectStart\": 0,\n",
    "      \"requestStart\": 230,\n",
    "      \"unloadEventEnd\": 0,\n",
    "      \"unloadEventStart\": 0,\n",
    "      \"domComplete\": 1664,\n",
    "      \"domainLookupStart\": 7,\n",
    "      \"loadEventStart\": 1664,\n",
    "      \"domContentLoadedEventEnd\": 761,\n",
    "      \"redirectEnd\": 0,\n",
    "      \"connectEnd\": 230\n",
    "    }\n",
    "\n",
    "results = compare_objects(timing1, timing2, tolerance=.20)\n",
    "list(results)"
   ]
  },
  {
   "cell_type": "code",
   "execution_count": null,
   "metadata": {},
   "outputs": [],
   "source": []
  }
 ],
 "metadata": {
  "kernelspec": {
   "display_name": "Python 3",
   "language": "python",
   "name": "python3"
  },
  "language_info": {
   "codemirror_mode": {
    "name": "ipython",
    "version": 3
   },
   "file_extension": ".py",
   "mimetype": "text/x-python",
   "name": "python",
   "nbconvert_exporter": "python",
   "pygments_lexer": "ipython3",
   "version": "3.8.2"
  }
 },
 "nbformat": 4,
 "nbformat_minor": 4
}
