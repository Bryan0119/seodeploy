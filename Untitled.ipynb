{
 "cells": [
  {
   "cell_type": "code",
   "execution_count": 1,
   "metadata": {},
   "outputs": [
    {
     "name": "stdout",
     "output_type": "stream",
     "text": [
      "Collecting dictdiffer\n",
      "  Downloading dictdiffer-0.8.1-py2.py3-none-any.whl (16 kB)\n",
      "Installing collected packages: dictdiffer\n",
      "Successfully installed dictdiffer-0.8.1\n"
     ]
    }
   ],
   "source": [
    "!pip install dictdiffer"
   ]
  },
  {
   "cell_type": "code",
   "execution_count": 4,
   "metadata": {},
   "outputs": [],
   "source": [
    "from dictdiffer import diff, patch, swap, revert\n"
   ]
  },
  {
   "cell_type": "code",
   "execution_count": 134,
   "metadata": {},
   "outputs": [
    {
     "data": {
      "text/plain": [
       "[('change', 'connectStart', (91, 121)),\n",
       " ('change', 'domInteractive', (712, 834))]"
      ]
     },
     "execution_count": 134,
     "metadata": {},
     "output_type": "execute_result"
    }
   ],
   "source": [
    "timing1 =  {\n",
    "      \"connectStart\": 91,\n",
    "      \"navigationStart\": 0,\n",
    "      \"loadEventEnd\": 1680,\n",
    "      \"domLoading\": 261,\n",
    "      \"secureConnectionStart\": 111,\n",
    "      \"fetchStart\": 0,\n",
    "      \"domContentLoadedEventStart\": 757,\n",
    "      \"responseStart\": 252,\n",
    "      \"responseEnd\": 254,\n",
    "      \"domInteractive\": 712,\n",
    "      \"domainLookupEnd\": 91,\n",
    "      \"redirectStart\": 0,\n",
    "      \"requestStart\": 230,\n",
    "      \"unloadEventEnd\": 0,\n",
    "      \"unloadEventStart\": 0,\n",
    "      \"domComplete\": 1664,\n",
    "      \"domainLookupStart\": 7,\n",
    "      \"loadEventStart\": 1664,\n",
    "      \"domContentLoadedEventEnd\": 761,\n",
    "      \"redirectEnd\": 0,\n",
    "      \"connectEnd\": 230\n",
    "    }\n",
    "\n",
    "\n",
    "timing2 =  {\n",
    "      \"connectStart\": 121,\n",
    "      \"navigationStart\": 0,\n",
    "      \"loadEventEnd\": 1680,\n",
    "      \"domLoading\": 261,\n",
    "      \"secureConnectionStart\": 111,\n",
    "      \"fetchStart\": 0,\n",
    "      \"domContentLoadedEventStart\": 757,\n",
    "      \"responseStart\": 252,\n",
    "      \"responseEnd\": 254,\n",
    "      \"domInteractive\": 834,\n",
    "      \"domainLookupEnd\": 91,\n",
    "      \"redirectStart\": 0,\n",
    "      \"requestStart\": 230,\n",
    "      \"unloadEventEnd\": 0,\n",
    "      \"unloadEventStart\": 0,\n",
    "      \"domComplete\": 1664,\n",
    "      \"domainLookupStart\": 7,\n",
    "      \"loadEventStart\": 1664,\n",
    "      \"domContentLoadedEventEnd\": 761,\n",
    "      \"redirectEnd\": 0,\n",
    "      \"connectEnd\": 230\n",
    "    }\n",
    "\n",
    "results = diff(timing1, timing2)\n",
    "list(results)"
   ]
  },
  {
   "cell_type": "code",
   "execution_count": 135,
   "metadata": {},
   "outputs": [],
   "source": [
    "h1_1 = [\n",
    "    {\n",
    "      \"xpath\": \"/html/body/div[1]/div/main/div[2]/div/div/div[1]/h2\",\n",
    "      \"content\": \"TECHNICAL SEO\"\n",
    "    },\n",
    "    {\n",
    "      \"xpath\": \"/html/body/div[1]/div/main/div[2]/div/div/div[2]/h2\",\n",
    "      \"content\": \"CONTENT\"\n",
    "    },\n",
    "    {\n",
    "      \"xpath\": \"/html/body/div[1]/div/main/div[2]/div/div/div[3]/h2\",\n",
    "      \"content\": \"LOCAL SEO\"\n",
    "    },\n",
    "    {\n",
    "      \"xpath\": \"/html/body/div[1]/div/main/div[2]/div/div/div[4]/h2\",\n",
    "      \"content\": \"LINK BUILDING\"\n",
    "    },\n",
    "    {\n",
    "      \"xpath\": \"/html/body/div[1]/div/main/div[2]/div/div/div[5]/h2\",\n",
    "      \"content\": \"PAY-PER-CLICK\"\n",
    "    },\n",
    "    {\n",
    "      \"xpath\": \"/html/body/div[1]/div/main/div[2]/div/div/div[6]/h2\",\n",
    "      \"content\": \"IMPLEMENTATION\"\n",
    "    },\n",
    "    {\n",
    "      \"xpath\": \"/html/body/div[1]/div/main/div[3]/div/h2\",\n",
    "      \"content\": \"BEST SEO AGENCY AWARD\"\n",
    "    },\n",
    "    {\n",
    "      \"xpath\": \"/html/body/div[1]/div/main/div[4]/div/h2\",\n",
    "      \"content\": \"WE ARE MOZ RECOMMENDED.\"\n",
    "    },\n",
    "    {\n",
    "      \"xpath\": \"/html/body/div[1]/div/main/div[6]/div/div/div[1]/h2\",\n",
    "      \"content\": \"Connect with us.\"\n",
    "    }\n",
    "  ]\n",
    "\n",
    "h1_2 = [\n",
    "    {\n",
    "      \"xpath\": \"/html/body/div[1]/div/main/div[2]/div/div/div[1]/h2\",\n",
    "      \"content\": \"TECHNICAL SEO\"\n",
    "    },\n",
    "    {\n",
    "      \"xpath\": \"/html/body/div[1]/div/main/div[2]/div/div/div[2]/h2\",\n",
    "      \"content\": \"CONTENT\"\n",
    "    },\n",
    "    {\n",
    "      \"xpath\": \"/html/body/div[1]/div/main/div[2]/div/div/div[3]/h2\",\n",
    "      \"content\": \"CONTACT US\"\n",
    "    },\n",
    "    {\n",
    "      \"xpath\": \"/html/body/div[1]/div/main/div[2]/div/div/div[4]/h2\",\n",
    "      \"content\": \"LOCAL SEO\"\n",
    "    },\n",
    "    {\n",
    "      \"xpath\": \"/html/body/div[1]/div/main/div[2]/div/div/div[5]/h2\",\n",
    "      \"content\": \"Link Building\"\n",
    "    },\n",
    "    {\n",
    "      \"xpath\": \"/html/body/div[1]/div/main/div[2]/div/div/div[6]/h2\",\n",
    "      \"content\": \"PAY-PER-CLICK\"\n",
    "    },\n",
    "    {\n",
    "      \"xpath\": \"/html/body/div[1]/div/main/div[2]/div/div/div[7]/h2\",\n",
    "      \"content\": \"IMPLEMENTATION\"\n",
    "    },\n",
    "\n",
    "    {\n",
    "      \"xpath\": \"/html/body/div[1]/div/main/div[6]/div/div/div[1]/h2\",\n",
    "      \"content\": \"Connect with us\"\n",
    "    }\n",
    "  ]\n",
    "\n"
   ]
  },
  {
   "cell_type": "code",
   "execution_count": 140,
   "metadata": {},
   "outputs": [
    {
     "data": {
      "text/plain": [
       "[{'type': 'change',\n",
       "  'item': '/html/body/div[1]/div/main/div[2]/div/div/div[3]/h2',\n",
       "  'before': 'LOCAL SEO',\n",
       "  'after': 'CONTACT US'},\n",
       " {'type': 'change',\n",
       "  'item': '/html/body/div[1]/div/main/div[2]/div/div/div[4]/h2',\n",
       "  'before': 'LINK BUILDING',\n",
       "  'after': 'LOCAL SEO'},\n",
       " {'type': 'change',\n",
       "  'item': '/html/body/div[1]/div/main/div[2]/div/div/div[5]/h2',\n",
       "  'before': 'PAY-PER-CLICK',\n",
       "  'after': 'Link Building'},\n",
       " {'type': 'change',\n",
       "  'item': '/html/body/div[1]/div/main/div[2]/div/div/div[6]/h2',\n",
       "  'before': 'IMPLEMENTATION',\n",
       "  'after': 'PAY-PER-CLICK'},\n",
       " {'type': 'change',\n",
       "  'item': '/html/body/div[1]/div/main/div[6]/div/div/div[1]/h2',\n",
       "  'before': 'Connect with us.',\n",
       "  'after': 'Connect with us'},\n",
       " {'type': 'add',\n",
       "  'item': '/html/body/div[1]/div/main/div[2]/div/div/div[7]/h2',\n",
       "  'content': 'IMPLEMENTATION'},\n",
       " {'type': 'remove',\n",
       "  'item': '/html/body/div[1]/div/main/div[3]/div/h2',\n",
       "  'content': 'BEST SEO AGENCY AWARD'},\n",
       " {'type': 'remove',\n",
       "  'item': '/html/body/div[1]/div/main/div[4]/div/h2',\n",
       "  'content': 'WE ARE MOZ RECOMMENDED.'}]"
      ]
     },
     "execution_count": 140,
     "metadata": {},
     "output_type": "execute_result"
    }
   ],
   "source": [
    "from dictdiffer import diff, patch, swap, revert\n",
    "\n",
    "\n",
    "def l2d(l1,l2):\n",
    "    d1 = {i['xpath']:i['content'] for i in l1 if i['xpath'] and len(i['xpath'])}\n",
    "    d2 = {i['xpath']:i['content'] for i in l2 if i['xpath'] and len(i['xpath'])}\n",
    "    return d1,d2\n",
    "\n",
    "def item_change(diffs):\n",
    "    \n",
    "    results = []\n",
    "    \n",
    "    for diff in diffs:\n",
    "        ctype, element, details = diff\n",
    "\n",
    "        if ctype == \"change\":\n",
    "            results.append({'type': ctype, 'item': element, 'before': details[0], 'after': details[1]})\n",
    "        else:\n",
    "            for item in details:\n",
    "                results.append({'type': ctype, 'item': item[0], 'content': item[1]})\n",
    "    \n",
    "    return results\n",
    "\n",
    "def diff_changes(d1, d2):\n",
    "    d1, d2 = l2d(d1,d2)\n",
    "    results = diff(d1, d2)\n",
    "    return item_change(results)\n",
    "\n",
    "diff_changes(h1_1, h1_2)"
   ]
  },
  {
   "cell_type": "code",
   "execution_count": 143,
   "metadata": {},
   "outputs": [
    {
     "data": {
      "text/plain": [
       "[{'type': 'change', 'item': 'connectStart', 'before': 91, 'after': 121},\n",
       " {'type': 'change', 'item': 'domInteractive', 'before': 712, 'after': 834}]"
      ]
     },
     "execution_count": 143,
     "metadata": {},
     "output_type": "execute_result"
    }
   ],
   "source": [
    "item_change(diff(timing1, timing2))"
   ]
  },
  {
   "cell_type": "code",
   "execution_count": 127,
   "metadata": {},
   "outputs": [],
   "source": [
    "typ, element, changes = results[3]"
   ]
  },
  {
   "cell_type": "code",
   "execution_count": 128,
   "metadata": {},
   "outputs": [
    {
     "name": "stdout",
     "output_type": "stream",
     "text": [
      "change\n",
      "/html/body/div[1]/div/main/div[2]/div/div/div[6]/h2\n",
      "('IMPLEMENTATION', 'PAY-PER-CLICK')\n"
     ]
    }
   ],
   "source": [
    "print(typ)\n",
    "print(element)\n",
    "print(changes)\n"
   ]
  },
  {
   "cell_type": "code",
   "execution_count": 96,
   "metadata": {},
   "outputs": [
    {
     "data": {
      "text/plain": [
       "{'dictionary_item_added': [root['/html/body/div[1]/div/main/div[2]/div/div/div[7]/h2']],\n",
       " 'values_changed': {\"root['/html/body/div[1]/div/main/div[2]/div/div/div[6]/h2']\": {'new_value': 'PAY-PER-CLICK',\n",
       "   'old_value': 'IMPLEMENTATION'},\n",
       "  \"root['/html/body/div[1]/div/main/div[2]/div/div/div[5]/h2']\": {'new_value': 'Link Building',\n",
       "   'old_value': 'PAY-PER-CLICK'},\n",
       "  \"root['/html/body/div[1]/div/main/div[2]/div/div/div[3]/h2']\": {'new_value': 'CONTACT US',\n",
       "   'old_value': 'LOCAL SEO'},\n",
       "  \"root['/html/body/div[1]/div/main/div[2]/div/div/div[4]/h2']\": {'new_value': 'LOCAL SEO',\n",
       "   'old_value': 'LINK BUILDING'},\n",
       "  \"root['/html/body/div[1]/div/main/div[6]/div/div/div[1]/h2']\": {'new_value': 'Connect with us',\n",
       "   'old_value': 'Connect with us.'}}}"
      ]
     },
     "execution_count": 96,
     "metadata": {},
     "output_type": "execute_result"
    }
   ],
   "source": [
    "from deepdiff import DeepDiff\n",
    "\n",
    "d1, d2 = l2d(h1_1, h1_2)\n",
    "\n",
    "results = DeepDiff(d1, d2)\n",
    "results"
   ]
  },
  {
   "cell_type": "code",
   "execution_count": 99,
   "metadata": {},
   "outputs": [
    {
     "data": {
      "text/plain": [
       "[('change', [2, 'content'], ('LOCAL SEO', 'CONTACT US')),\n",
       " ('change', [3, 'content'], ('LINK BUILDING', 'LOCAL SEO')),\n",
       " ('change', [4, 'content'], ('PAY-PER-CLICK', 'Link Building')),\n",
       " ('change', [5, 'content'], ('IMPLEMENTATION', 'PAY-PER-CLICK')),\n",
       " ('change',\n",
       "  [6, 'xpath'],\n",
       "  ('/html/body/div[1]/div/main/div[3]/div/h2',\n",
       "   '/html/body/div[1]/div/main/div[2]/div/div/div[7]/h2')),\n",
       " ('change', [6, 'content'], ('BEST SEO AGENCY AWARD', 'IMPLEMENTATION')),\n",
       " ('change',\n",
       "  [7, 'xpath'],\n",
       "  ('/html/body/div[1]/div/main/div[4]/div/h2',\n",
       "   '/html/body/div[1]/div/main/div[3]/div/h2')),\n",
       " ('change',\n",
       "  [7, 'content'],\n",
       "  ('WE ARE MOZ RECOMMENDED.', 'BEST SEO AGENCY AWARD')),\n",
       " ('change',\n",
       "  [8, 'xpath'],\n",
       "  ('/html/body/div[1]/div/main/div[6]/div/div/div[1]/h2',\n",
       "   '/html/body/div[1]/div/main/div[4]/div/h2')),\n",
       " ('change', [8, 'content'], ('Connect with us.', 'WE ARE MOZ RECOMMENDED.')),\n",
       " ('add',\n",
       "  '',\n",
       "  [(9,\n",
       "    {'xpath': '/html/body/div[1]/div/main/div[6]/div/div/div[1]/h2',\n",
       "     'content': 'Connect with us'})])]"
      ]
     },
     "execution_count": 99,
     "metadata": {},
     "output_type": "execute_result"
    }
   ],
   "source": [
    "list(diff(h1_1,h1_2))"
   ]
  }
 ],
 "metadata": {
  "kernelspec": {
   "display_name": "Python 3",
   "language": "python",
   "name": "python3"
  },
  "language_info": {
   "codemirror_mode": {
    "name": "ipython",
    "version": 3
   },
   "file_extension": ".py",
   "mimetype": "text/x-python",
   "name": "python",
   "nbconvert_exporter": "python",
   "pygments_lexer": "ipython3",
   "version": "3.8.2"
  }
 },
 "nbformat": 4,
 "nbformat_minor": 4
}
