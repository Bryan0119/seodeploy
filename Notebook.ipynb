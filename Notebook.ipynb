{
 "cells": [
  {
   "cell_type": "markdown",
   "metadata": {},
   "source": [
    "# CI/CD SEO Testing Integration with Jenkins"
   ]
  },
  {
   "cell_type": "markdown",
   "metadata": {},
   "source": [
    "Reporting API Details: https://www.contentkingapp.com/support/reporting-api/\n",
    "\n",
    "### Implemeneted Reports:\n",
    "* websites\n",
    "* alerts\n",
    "* issues\n",
    "* segments\n",
    "* statistics\n",
    "* statistics:segment\n",
    "* url\n",
    "\n",
    "### Implemented Named Parameters:\n",
    "* id: ContentKing ID of website (string)\n",
    "* url: URL of page to get details about. (string)\n",
    "* per_page: How many pages to return at a time from the `pages` endpoint. Max is 500, (integer)"
   ]
  },
  {
   "cell_type": "markdown",
   "metadata": {},
   "source": [
    "## Libraries"
   ]
  },
  {
   "cell_type": "code",
   "execution_count": null,
   "metadata": {},
   "outputs": [],
   "source": [
    "import lib.contentking as ck\n",
    "import lib.sampling  as sp\n",
    "import json"
   ]
  },
  {
   "cell_type": "markdown",
   "metadata": {},
   "source": [
    "## Report Examples"
   ]
  },
  {
   "cell_type": "markdown",
   "metadata": {},
   "source": [
    "### Websites"
   ]
  },
  {
   "cell_type": "code",
   "execution_count": null,
   "metadata": {},
   "outputs": [],
   "source": [
    "report = 'websites'\n",
    "\n",
    "sites = ck.load_report(report)\n",
    "if sites:\n",
    "    print(json.dumps(sites[:5], indent=4))"
   ]
  },
  {
   "cell_type": "markdown",
   "metadata": {},
   "source": [
    "### Websites (Find a matching domain)"
   ]
  },
  {
   "cell_type": "code",
   "execution_count": null,
   "metadata": {},
   "outputs": [],
   "source": [
    "domain = \"cqchome.com\"\n",
    "\n",
    "sites = [s for s in ck.load_report('websites') if domain in s['domain']]\n",
    "if sites:\n",
    "    print(json.dumps(sites, indent=4))"
   ]
  },
  {
   "cell_type": "code",
   "execution_count": null,
   "metadata": {},
   "outputs": [],
   "source": [
    "names = []\n",
    "\n",
    "if names:\n",
    "    print('Yes')"
   ]
  },
  {
   "cell_type": "markdown",
   "metadata": {},
   "source": [
    "### Statistics"
   ]
  },
  {
   "cell_type": "code",
   "execution_count": null,
   "metadata": {},
   "outputs": [],
   "source": [
    "report = 'statistics'\n",
    "site_id = '5-4914618'\n",
    "\n",
    "statistics = ck.load_report(report, id=site_id)\n",
    "if statistics:\n",
    "    print(json.dumps(statistics, indent=4))"
   ]
  },
  {
   "cell_type": "markdown",
   "metadata": {},
   "source": [
    "### Issues"
   ]
  },
  {
   "cell_type": "code",
   "execution_count": null,
   "metadata": {},
   "outputs": [],
   "source": [
    "report = 'issues'\n",
    "site_id = '5-4914618'\n",
    "\n",
    "issues = ck.load_report(report, id=site_id)\n",
    "if issues:\n",
    "    print(json.dumps(issues[:5], indent=4))"
   ]
  },
  {
   "cell_type": "markdown",
   "metadata": {},
   "source": [
    "### Alerts"
   ]
  },
  {
   "cell_type": "code",
   "execution_count": null,
   "metadata": {},
   "outputs": [],
   "source": [
    "report = 'alerts'\n",
    "site_id = '4-17147226'\n",
    "\n",
    "alerts = ck.load_report(report, id=site_id)\n",
    "if alerts:\n",
    "    print(json.dumps(alerts[:5], indent=4))"
   ]
  },
  {
   "cell_type": "markdown",
   "metadata": {},
   "source": [
    "### Pages"
   ]
  },
  {
   "cell_type": "code",
   "execution_count": null,
   "metadata": {},
   "outputs": [],
   "source": [
    "report = 'pages'\n",
    "site_id = '4-17147226'\n",
    "\n",
    "# Returns a Generator\n",
    "pages = ck.load_report(report, id=site_id, per_page=300)\n",
    "\n",
    "# Grab all indexable URLs\n",
    "urls = [url['url'] for page in pages for url in page if url['is_indexable']]\n",
    "\n",
    "if urls:\n",
    "    print('Found {} URLs'.format(len(urls)))\n",
    "    print('Examples:')\n",
    "    print(json.dumps(urls[:5], indent=4))"
   ]
  },
  {
   "cell_type": "markdown",
   "metadata": {},
   "source": [
    "### Sample URLs"
   ]
  },
  {
   "cell_type": "code",
   "execution_count": null,
   "metadata": {},
   "outputs": [],
   "source": [
    "site_id = '7-453638'\n",
    "sample_paths = sp.get_sample_paths(site_id, limit=None)\n",
    "if sample_paths:\n",
    "    print(json.dumps(sample_paths[:5], indent=4))"
   ]
  },
  {
   "cell_type": "code",
   "execution_count": null,
   "metadata": {},
   "outputs": [],
   "source": [
    "str(2.33)"
   ]
  },
  {
   "cell_type": "markdown",
   "metadata": {},
   "source": [
    "### Notify ContentKing of URLs"
   ]
  },
  {
   "cell_type": "code",
   "execution_count": null,
   "metadata": {},
   "outputs": [],
   "source": [
    "results = ck.ping_prod_paths(sample_paths)\n",
    "\n",
    "if results:\n",
    "    sent_total = len(list(results.keys()))\n",
    "    sent_ok    = len([l for l in list(results.keys()) if results[l] == 'ok'])\n",
    "    print(\"{}% of URLs `ok`\".format( round((sent_ok/sent_total)*100, 2) ))"
   ]
  },
  {
   "cell_type": "markdown",
   "metadata": {},
   "source": [
    "### Retreive URL Information"
   ]
  },
  {
   "cell_type": "code",
   "execution_count": null,
   "metadata": {},
   "outputs": [],
   "source": [
    "report = 'url'\n",
    "site_id = '7-453638'\n",
    "url = list(results.keys())[10]\n",
    "\n",
    "url_data = ck.load_report(report, id=site_id, url=url)\n",
    "if url_data:\n",
    "    print(json.dumps(url_data, indent=4))"
   ]
  },
  {
   "cell_type": "code",
   "execution_count": 1,
   "metadata": {},
   "outputs": [
    {
     "name": "stdout",
     "output_type": "stream",
     "text": [
      "Start time earlier:\n",
      "Start: 2020-05-15T04:31:41+02:00\n",
      "Last : 2020-04-29T18:25:49+02:00\n",
      "1332352.483043\n",
      "\n",
      "Start time later:\n",
      "Start: 2020-05-15T04:31:41+02:00\n",
      "Last : 2020-04-29T18:45:49+02:00\n",
      "1331152.483043\n"
     ]
    }
   ],
   "source": [
    "import pytz\n",
    "from datetime import datetime\n",
    "\n",
    "tz = pytz.timezone('Europe/Amsterdam')\n",
    "amsterdam_now = datetime.now().astimezone(tz)\n",
    "start_time = amsterdam_now\n",
    "\n",
    "print(\"Start time earlier:\")\n",
    "t = \"2020-04-29T18:25:49+02:00\"\n",
    "last_check = datetime.fromisoformat(t).astimezone(tz)\n",
    "print('Start:', start_time.isoformat(timespec='seconds'))\n",
    "print('Last :', last_check.isoformat(timespec='seconds'))\n",
    "td = (start_time - last_check).total_seconds()\n",
    "print(td)\n",
    "print()\n",
    "\n",
    "print(\"Start time later:\")\n",
    "t = \"2020-04-29T18:45:49+02:00\"\n",
    "last_check = datetime.fromisoformat(t).astimezone(tz)\n",
    "print('Start:', start_time.isoformat(timespec='seconds'))\n",
    "print('Last :', last_check.isoformat(timespec='seconds'))\n",
    "td = (start_time - last_check).total_seconds()\n",
    "print(td)"
   ]
  },
  {
   "cell_type": "code",
   "execution_count": 13,
   "metadata": {},
   "outputs": [
    {
     "ename": "AttributeError",
     "evalue": "'datetime.datetime' object has no attribute 'seconds'",
     "output_type": "error",
     "traceback": [
      "\u001b[1;31m---------------------------------------------------------------------------\u001b[0m",
      "\u001b[1;31mAttributeError\u001b[0m                            Traceback (most recent call last)",
      "\u001b[1;32m<ipython-input-13-a5410fbbcf52>\u001b[0m in \u001b[0;36m<module>\u001b[1;34m\u001b[0m\n\u001b[1;32m----> 1\u001b[1;33m \u001b[0mlast_check\u001b[0m\u001b[1;33m.\u001b[0m\u001b[0mseconds\u001b[0m\u001b[1;33m\u001b[0m\u001b[1;33m\u001b[0m\u001b[0m\n\u001b[0m",
      "\u001b[1;31mAttributeError\u001b[0m: 'datetime.datetime' object has no attribute 'seconds'"
     ]
    }
   ],
   "source": [
    "last_check.seconds"
   ]
  },
  {
   "cell_type": "code",
   "execution_count": null,
   "metadata": {},
   "outputs": [],
   "source": [
    "from pytz import common_timezones\n",
    "_ = [print(t) for t in common_timezones]"
   ]
  },
  {
   "cell_type": "code",
   "execution_count": null,
   "metadata": {},
   "outputs": [],
   "source": [
    "timezone.__str__"
   ]
  },
  {
   "cell_type": "code",
   "execution_count": 1,
   "metadata": {},
   "outputs": [],
   "source": [
    "import multiprocessing as mp\n",
    "import numpy as np\n",
    "\n",
    "paths = [i for i in range(20)]"
   ]
  },
  {
   "cell_type": "code",
   "execution_count": null,
   "metadata": {},
   "outputs": [],
   "source": [
    "paths"
   ]
  },
  {
   "cell_type": "code",
   "execution_count": null,
   "metadata": {},
   "outputs": [
    {
     "name": "stdout",
     "output_type": "stream",
     "text": [
      "Pool\n"
     ]
    }
   ],
   "source": [
    "import multiprocessing as mp\n",
    "import numpy as np\n",
    "\n",
    "paths = [i for i in range(20)]\n",
    "\n",
    "def _map(args):\n",
    "    lst, fn, kwa = args\n",
    "    print(lst)\n",
    "    return [fn(i) for i in lst]\n",
    "\n",
    "def mp_parse(lst, fn, **kwargs):\n",
    "    threads = 5\n",
    "    pool = mp.Pool(processes=threads)\n",
    "    \n",
    "    print('Pool')\n",
    "    result = pool.map(_map, [(l, fn, kwargs)\n",
    "            for l in np.array_split(lst, threads)])\n",
    "    print('Results')\n",
    "    pool.close()\n",
    "    \n",
    "    print('Closed')\n",
    "    return list(result)\n",
    "    \n",
    "def square(x):\n",
    "    return x**x\n",
    "\n",
    "result = mp_parse(paths, square)"
   ]
  },
  {
   "cell_type": "code",
   "execution_count": 5,
   "metadata": {},
   "outputs": [],
   "source": [
    "pt, st = 1, 1"
   ]
  },
  {
   "cell_type": "code",
   "execution_count": 6,
   "metadata": {},
   "outputs": [
    {
     "name": "stdout",
     "output_type": "stream",
     "text": [
      "yes\n"
     ]
    }
   ],
   "source": [
    "if pt and st:\n",
    "    print('yes')"
   ]
  }
 ],
 "metadata": {
  "kernelspec": {
   "display_name": "Python 3",
   "language": "python",
   "name": "python3"
  },
  "language_info": {
   "codemirror_mode": {
    "name": "ipython",
    "version": 3
   },
   "file_extension": ".py",
   "mimetype": "text/x-python",
   "name": "python",
   "nbconvert_exporter": "python",
   "pygments_lexer": "ipython3",
   "version": "3.7.7"
  }
 },
 "nbformat": 4,
 "nbformat_minor": 4
}
