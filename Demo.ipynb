{
 "cells": [
  {
   "cell_type": "markdown",
   "metadata": {},
   "source": [
    "# CI/CD SEO Testing Integration with Jenkins"
   ]
  },
  {
   "cell_type": "markdown",
   "metadata": {},
   "source": [
    "Reporting API Details: https://www.contentkingapp.com/support/reporting-api/\n",
    "\n",
    "### Implemeneted Reports:\n",
    "* websites\n",
    "* alerts\n",
    "* issues\n",
    "* segments\n",
    "* statistics\n",
    "* statistics:segment\n",
    "* url\n",
    "\n",
    "### Implemented Named Parameters:\n",
    "* id: ContentKing ID of website (string)\n",
    "* url: URL of page to get details about. (string)\n",
    "* per_page: How many pages to return at a time from the `pages` endpoint. Max is 500, (integer)"
   ]
  },
  {
   "cell_type": "markdown",
   "metadata": {},
   "source": [
    "## Libraries"
   ]
  },
  {
   "cell_type": "code",
   "execution_count": 1,
   "metadata": {},
   "outputs": [],
   "source": [
    "import lib.contentking as ck\n",
    "import lib.sampling  as sp\n",
    "import json"
   ]
  },
  {
   "cell_type": "markdown",
   "metadata": {},
   "source": [
    "## Report Examples"
   ]
  },
  {
   "cell_type": "markdown",
   "metadata": {},
   "source": [
    "### Websites"
   ]
  },
  {
   "cell_type": "code",
   "execution_count": 2,
   "metadata": {},
   "outputs": [
    {
     "name": "stdout",
     "output_type": "stream",
     "text": [
      "[\n",
      "    {\n",
      "        \"id\": \"7-324470\",\n",
      "        \"app_url\": \"https://app.contentkingapp.com/websites/7-324470/dashboard\",\n",
      "        \"domain\": \"realthread.com\",\n",
      "        \"name\": \"realthread.com\",\n",
      "        \"page_capacity\": 1000\n",
      "    },\n",
      "    {\n",
      "        \"id\": \"7-438745\",\n",
      "        \"app_url\": \"https://app.contentkingapp.com/websites/7-438745/dashboard\",\n",
      "        \"domain\": \"https://www.techjunkie.com\",\n",
      "        \"name\": \"techjunkie.com\",\n",
      "        \"page_capacity\": 20000\n",
      "    },\n",
      "    {\n",
      "        \"id\": \"7-453638\",\n",
      "        \"app_url\": \"https://app.contentkingapp.com/websites/7-453638/dashboard\",\n",
      "        \"domain\": \"https://locomotive.agency\",\n",
      "        \"name\": \"locomotive.agency\",\n",
      "        \"page_capacity\": 1000\n",
      "    },\n",
      "    {\n",
      "        \"id\": \"3-3708816\",\n",
      "        \"app_url\": \"https://app.contentkingapp.com/websites/3-3708816/dashboard\",\n",
      "        \"domain\": \"https://elitesimivalleydentists.com\",\n",
      "        \"name\": \"elitesimivalleydentists.com\",\n",
      "        \"page_capacity\": 1000\n",
      "    },\n",
      "    {\n",
      "        \"id\": \"5-4430917\",\n",
      "        \"app_url\": \"https://app.contentkingapp.com/websites/5-4430917/dashboard\",\n",
      "        \"domain\": \"https://www.gocanvas.com\",\n",
      "        \"name\": \"gocanvas.com\",\n",
      "        \"page_capacity\": 2000\n",
      "    }\n",
      "]\n"
     ]
    }
   ],
   "source": [
    "report = 'websites'\n",
    "\n",
    "sites = ck.load_report(report)\n",
    "if sites:\n",
    "    print(json.dumps(sites[:5], indent=4))"
   ]
  },
  {
   "cell_type": "markdown",
   "metadata": {},
   "source": [
    "### Websites (Find a matching domain)"
   ]
  },
  {
   "cell_type": "code",
   "execution_count": 3,
   "metadata": {},
   "outputs": [
    {
     "name": "stdout",
     "output_type": "stream",
     "text": [
      "[\n",
      "    {\n",
      "        \"id\": \"4-17147226\",\n",
      "        \"app_url\": \"https://app.contentkingapp.com/websites/4-17147226/dashboard\",\n",
      "        \"domain\": \"https://cqchome.com\",\n",
      "        \"name\": \"cqchome.com\",\n",
      "        \"page_capacity\": 1000\n",
      "    }\n",
      "]\n"
     ]
    }
   ],
   "source": [
    "domain = \"cqchome.com\"\n",
    "\n",
    "sites = [s for s in ck.load_report('websites') if domain in s['domain']]\n",
    "if sites:\n",
    "    print(json.dumps(sites, indent=4))"
   ]
  },
  {
   "cell_type": "markdown",
   "metadata": {},
   "source": [
    "### Statistics"
   ]
  },
  {
   "cell_type": "code",
   "execution_count": 4,
   "metadata": {},
   "outputs": [
    {
     "name": "stdout",
     "output_type": "stream",
     "text": [
      "{\n",
      "    \"health\": 697,\n",
      "    \"number_of_issues\": 11268,\n",
      "    \"number_of_urls\": {\n",
      "        \"missing\": 15,\n",
      "        \"page\": 1000,\n",
      "        \"redirect\": 84,\n",
      "        \"server_error\": 0,\n",
      "        \"unreachable\": 0\n",
      "    }\n",
      "}\n"
     ]
    }
   ],
   "source": [
    "report = 'statistics'\n",
    "site_id = '5-4914618'\n",
    "\n",
    "statistics = ck.load_report(report, id=site_id)\n",
    "if statistics:\n",
    "    print(json.dumps(statistics, indent=4))"
   ]
  },
  {
   "cell_type": "markdown",
   "metadata": {},
   "source": [
    "### Issues"
   ]
  },
  {
   "cell_type": "code",
   "execution_count": 5,
   "metadata": {},
   "outputs": [
    {
     "name": "stdout",
     "output_type": "stream",
     "text": [
      "[\n",
      "    {\n",
      "        \"name\": \"analytics/analytics_missing\",\n",
      "        \"points_gained\": 112,\n",
      "        \"points_to_gain\": 0,\n",
      "        \"scope\": \"pages\"\n",
      "    },\n",
      "    {\n",
      "        \"name\": \"analytics/visual_analytics_missing\",\n",
      "        \"points_gained\": 20,\n",
      "        \"points_to_gain\": 0,\n",
      "        \"scope\": \"pages\"\n",
      "    },\n",
      "    {\n",
      "        \"name\": \"canonical_link/incorrectly_canonicalized\",\n",
      "        \"points_gained\": 24,\n",
      "        \"points_to_gain\": 0,\n",
      "        \"scope\": \"pages\"\n",
      "    },\n",
      "    {\n",
      "        \"name\": \"canonical_link/missing\",\n",
      "        \"points_gained\": 8,\n",
      "        \"points_to_gain\": 1,\n",
      "        \"scope\": \"pages\"\n",
      "    },\n",
      "    {\n",
      "        \"name\": \"canonical_link/points_to_unindexable\",\n",
      "        \"points_gained\": 47,\n",
      "        \"points_to_gain\": 0,\n",
      "        \"scope\": \"pages\"\n",
      "    }\n",
      "]\n"
     ]
    }
   ],
   "source": [
    "report = 'issues'\n",
    "site_id = '5-4914618'\n",
    "\n",
    "issues = ck.load_report(report, id=site_id)\n",
    "if issues:\n",
    "    print(json.dumps(issues[:5], indent=4))"
   ]
  },
  {
   "cell_type": "markdown",
   "metadata": {},
   "source": [
    "### Alerts"
   ]
  },
  {
   "cell_type": "code",
   "execution_count": 6,
   "metadata": {},
   "outputs": [],
   "source": [
    "report = 'alerts'\n",
    "site_id = '4-17147226'\n",
    "\n",
    "alerts = ck.load_report(report, id=site_id)\n",
    "if alerts:\n",
    "    print(json.dumps(alerts[:5], indent=4))"
   ]
  },
  {
   "cell_type": "markdown",
   "metadata": {},
   "source": [
    "### Pages"
   ]
  },
  {
   "cell_type": "code",
   "execution_count": 7,
   "metadata": {},
   "outputs": [
    {
     "name": "stdout",
     "output_type": "stream",
     "text": [
      "Found 322 URLs\n",
      "Examples:\n",
      "[\n",
      "    \"https://cqchome.com/\",\n",
      "    \"https://cqchome.com/about-us/\",\n",
      "    \"https://cqchome.com/about-us/faqs/\",\n",
      "    \"https://cqchome.com/bathroom-remodeling-services/\",\n",
      "    \"https://cqchome.com/blog/\"\n",
      "]\n"
     ]
    }
   ],
   "source": [
    "report = 'pages'\n",
    "site_id = '4-17147226'\n",
    "\n",
    "# Returns a Generator\n",
    "pages = ck.load_report(report, id=site_id, per_page=300)\n",
    "\n",
    "# Grab all indexable URLs\n",
    "urls = [url['url'] for page in pages for url in page if url['is_indexable']]\n",
    "\n",
    "if urls:\n",
    "    print('Found {} URLs'.format(len(urls)))\n",
    "    print('Examples:')\n",
    "    print(json.dumps(urls[:5], indent=4))"
   ]
  },
  {
   "cell_type": "markdown",
   "metadata": {},
   "source": [
    "### Sample URLs"
   ]
  },
  {
   "cell_type": "code",
   "execution_count": 8,
   "metadata": {},
   "outputs": [
    {
     "name": "stderr",
     "output_type": "stream",
     "text": [
      "Total URLs: 48 Samples: 43\n"
     ]
    },
    {
     "name": "stdout",
     "output_type": "stream",
     "text": [
      "[\n",
      "    \"/\",\n",
      "    \"/agency-news/same-award-winning-agency-brand-new-name/\",\n",
      "    \"/agency-news/small-business-pandemic/\",\n",
      "    \"/author/jilladaptpartners-com/\",\n",
      "    \"/author/jr/\"\n",
      "]\n"
     ]
    }
   ],
   "source": [
    "site_id = '7-453638'\n",
    "sample_paths = sp.get_sample_paths(site_id, limit=None)\n",
    "if sample_paths:\n",
    "    print(json.dumps(sample_paths[:5], indent=4))"
   ]
  },
  {
   "cell_type": "markdown",
   "metadata": {},
   "source": [
    "### Notify ContentKing of URLs"
   ]
  },
  {
   "cell_type": "code",
   "execution_count": 9,
   "metadata": {},
   "outputs": [
    {
     "data": {
      "application/vnd.jupyter.widget-view+json": {
       "model_id": "672bd45028e4459f911e96b05b267fd6",
       "version_major": 2,
       "version_minor": 0
      },
      "text/plain": [
       "HBox(children=(FloatProgress(value=0.0, description='Notifying ContentKing to recheck URLs', max=43.0, style=P…"
      ]
     },
     "metadata": {},
     "output_type": "display_data"
    },
    {
     "name": "stdout",
     "output_type": "stream",
     "text": [
      "\n",
      "100.0% of URLs `ok`\n"
     ]
    }
   ],
   "source": [
    "results = ck.process_prod_paths(sample_paths)\n",
    "\n",
    "if results:\n",
    "    sent_total = len(list(results.keys()))\n",
    "    sent_ok    = len([l for l in list(results.keys()) if results[l] == 'ok'])\n",
    "    print(\"{}% of URLs `ok`\".format( round((sent_ok/sent_total)*100, 2) ))"
   ]
  },
  {
   "cell_type": "markdown",
   "metadata": {},
   "source": [
    "### Retreive URL Information"
   ]
  },
  {
   "cell_type": "code",
   "execution_count": 10,
   "metadata": {},
   "outputs": [
    {
     "name": "stdout",
     "output_type": "stream",
     "text": [
      "{\n",
      "    \"url\": \"https://locomotive.agency/category/google/\",\n",
      "    \"is_https\": true,\n",
      "    \"ga_average_time\": 20.0,\n",
      "    \"ga_bounce_rate\": 100.0,\n",
      "    \"ga_date_range\": {\n",
      "        \"since\": \"2020-01-22\",\n",
      "        \"until\": \"2020-04-21\"\n",
      "    },\n",
      "    \"ga_page_value\": false,\n",
      "    \"ga_page_views\": 5,\n",
      "    \"ga_unique_page_views\": 5,\n",
      "    \"gsc_clicks\": 0,\n",
      "    \"gsc_ctr\": 0.0,\n",
      "    \"gsc_date_range\": {\n",
      "        \"since\": \"2020-01-22\",\n",
      "        \"until\": \"2020-04-21\"\n",
      "    },\n",
      "    \"gsc_impressions\": 5784,\n",
      "    \"gsc_position\": 51.2,\n",
      "    \"health\": 695,\n",
      "    \"is_disallowed_in_robots_txt\": false,\n",
      "    \"is_indexable\": true,\n",
      "    \"is_indexable_due_to_meta_robots\": \"yes\",\n",
      "    \"is_indexable_due_to_x_robots_tag\": \"yes\",\n",
      "    \"is_in_sitemap\": false,\n",
      "    \"relevance\": 4.74,\n",
      "    \"status_code\": 200,\n",
      "    \"type\": \"page\",\n",
      "    \"content\": [\n",
      "        {\n",
      "            \"type\": \"canonical\",\n",
      "            \"content\": \"https://locomotive.agency/category/google/\"\n",
      "        },\n",
      "        {\n",
      "            \"type\": \"title\",\n",
      "            \"content\": \"Google Archives - LOCOMOTIVE\\u00ae\"\n",
      "        },\n",
      "        {\n",
      "            \"type\": \"h1\",\n",
      "            \"content\": \"Google\"\n",
      "        },\n",
      "        {\n",
      "            \"type\": \"h2\",\n",
      "            \"content\": \"Quick Tips that Can Make Your Outreach Process Successful\"\n",
      "        },\n",
      "        {\n",
      "            \"type\": \"h2\",\n",
      "            \"content\": \"The General Data Protection Regulation (GDPR) and Google Analytics Data Retention Update\"\n",
      "        },\n",
      "        {\n",
      "            \"type\": \"h2\",\n",
      "            \"content\": \"Benefits & Reasonings for Posting in Google My Business\"\n",
      "        },\n",
      "        {\n",
      "            \"type\": \"meta_robots\",\n",
      "            \"content\": \"max-snippet:-1, max-image-preview:large, max-video-preview:-1\"\n",
      "        },\n",
      "        {\n",
      "            \"type\": \"open_graph_title\",\n",
      "            \"content\": \"Google Archives - LOCOMOTIVE\\u00ae\"\n",
      "        },\n",
      "        {\n",
      "            \"type\": \"open_graph_type\",\n",
      "            \"content\": \"object\"\n",
      "        },\n",
      "        {\n",
      "            \"type\": \"open_graph_url\",\n",
      "            \"content\": \"https://locomotive.agency/category/google/\"\n",
      "        },\n",
      "        {\n",
      "            \"type\": \"twitter_card\",\n",
      "            \"content\": \"summary_large_image\"\n",
      "        },\n",
      "        {\n",
      "            \"type\": \"twitter_title\",\n",
      "            \"content\": \"Google Archives - LOCOMOTIVE\\u00ae\"\n",
      "        },\n",
      "        {\n",
      "            \"type\": \"google_analytics\",\n",
      "            \"content\": \"UA-29401593-5\"\n",
      "        },\n",
      "        {\n",
      "            \"type\": \"hotjar\",\n",
      "            \"content\": \"1716204\"\n",
      "        },\n",
      "        {\n",
      "            \"type\": \"google_tag_manager\",\n",
      "            \"content\": \"GTM-TCVSKL3\"\n",
      "        }\n",
      "    ],\n",
      "    \"schema_org\": [\n",
      "        {\n",
      "            \"@context\": \"http://schema.org/\",\n",
      "            \"@type\": \"CollectionPage\",\n",
      "            \"headline\": \"Google Category\",\n",
      "            \"description\": \"\",\n",
      "            \"url\": \"/category/google/\",\n",
      "            \"sameAs\": [],\n",
      "            \"hasPart\": [\n",
      "                {\n",
      "                    \"@context\": \"http://schema.org/\",\n",
      "                    \"@type\": \"NewsArticle\",\n",
      "                    \"mainEntityOfPage\": {\n",
      "                        \"@type\": \"WebPage\",\n",
      "                        \"@id\": \"https://locomotive.agency/google/quick-tips-that-can-make-your-outreach-process-successful/\"\n",
      "                    },\n",
      "                    \"url\": \"https://locomotive.agency/google/quick-tips-that-can-make-your-outreach-process-successful/\",\n",
      "                    \"headline\": \"Quick Tips that Can Make Your Outreach Process...\",\n",
      "                    \"datePublished\": \"2018-09-21T07:14:48-04:00\",\n",
      "                    \"dateModified\": \"2018-09-21T07:14:48-04:00\",\n",
      "                    \"publisher\": {\n",
      "                        \"@type\": \"Organization\",\n",
      "                        \"@id\": \"https://locomotive.agency/#organization\",\n",
      "                        \"name\": \"LOCOMOTIVE\\u00ae\",\n",
      "                        \"logo\": {\n",
      "                            \"@type\": \"ImageObject\",\n",
      "                            \"url\": \"\",\n",
      "                            \"width\": 600,\n",
      "                            \"height\": 60\n",
      "                        }\n",
      "                    },\n",
      "                    \"articleSection\": \"Google\",\n",
      "                    \"description\": \"Writing emails for outreach for link building is key to getting the attention of your readers. On this post we want to share several templates and details in the outreach process that we\\u2019ve tried and have seen their effectiveness. Building Contact Lists: Avoid using generic emails, since those usually\",\n",
      "                    \"author\": {\n",
      "                        \"@type\": \"Person\",\n",
      "                        \"name\": \"Robert Padgett Cooper\",\n",
      "                        \"url\": \"https://locomotive.agency/author/robert/\",\n",
      "                        \"image\": {\n",
      "                            \"@type\": \"ImageObject\",\n",
      "                            \"url\": \"https://secure.gravatar.com/avatar/02d41950f46b1d28de4941d83a66712c?s=96&d=mm&r=g\",\n",
      "                            \"height\": 96,\n",
      "                            \"width\": 96\n",
      "                        },\n",
      "                        \"sameAs\": [\n",
      "                            \"http://www.locomotiveagency.com\"\n",
      "                        ]\n",
      "                    }\n",
      "                },\n",
      "                {\n",
      "                    \"@context\": \"http://schema.org/\",\n",
      "                    \"@type\": \"NewsArticle\",\n",
      "                    \"mainEntityOfPage\": {\n",
      "                        \"@type\": \"WebPage\",\n",
      "                        \"@id\": \"https://locomotive.agency/google/the-general-data-protection-regulation-gdpr-and-google-analytics-data-retention-update-2/\"\n",
      "                    },\n",
      "                    \"url\": \"https://locomotive.agency/google/the-general-data-protection-regulation-gdpr-and-google-analytics-data-retention-update-2/\",\n",
      "                    \"headline\": \"The General Data Protection Regulation (GDPR) and Google Analytics Data Retention...\",\n",
      "                    \"datePublished\": \"2018-05-17T15:01:58-04:00\",\n",
      "                    \"dateModified\": \"2018-05-17T15:01:58-04:00\",\n",
      "                    \"publisher\": {\n",
      "                        \"@type\": \"Organization\",\n",
      "                        \"@id\": \"https://locomotive.agency/#organization\",\n",
      "                        \"name\": \"LOCOMOTIVE\\u00ae\",\n",
      "                        \"logo\": {\n",
      "                            \"@type\": \"ImageObject\",\n",
      "                            \"url\": \"\",\n",
      "                            \"width\": 600,\n",
      "                            \"height\": 60\n",
      "                        }\n",
      "                    },\n",
      "                    \"image\": {\n",
      "                        \"@type\": \"ImageObject\",\n",
      "                        \"url\": \"https://adaptpartners.com/wp-content/uploads/2018/05/GAemail.png\",\n",
      "                        \"width\": 696,\n",
      "                        \"height\": \"599\"\n",
      "                    },\n",
      "                    \"articleSection\": \"Google\",\n",
      "                    \"description\": \"We gathered helpful information to help you understand what the GDPR is and how it affects you. Also with this new regulation, Google Analytics has been preparing to meet with these requirements that will take place May 25, 2018. Ian Lurie stated that \\u201cif you don\\u2019t want block traffic\",\n",
      "                    \"author\": {\n",
      "                        \"@type\": \"Person\",\n",
      "                        \"name\": \"Robert Padgett Cooper\",\n",
      "                        \"url\": \"https://locomotive.agency/author/robert/\",\n",
      "                        \"image\": {\n",
      "                            \"@type\": \"ImageObject\",\n",
      "                            \"url\": \"https://secure.gravatar.com/avatar/02d41950f46b1d28de4941d83a66712c?s=96&d=mm&r=g\",\n",
      "                            \"height\": 96,\n",
      "                            \"width\": 96\n",
      "                        },\n",
      "                        \"sameAs\": [\n",
      "                            \"http://www.locomotiveagency.com\"\n",
      "                        ]\n",
      "                    }\n",
      "                },\n",
      "                {\n",
      "                    \"@context\": \"http://schema.org/\",\n",
      "                    \"@type\": \"NewsArticle\",\n",
      "                    \"mainEntityOfPage\": {\n",
      "                        \"@type\": \"WebPage\",\n",
      "                        \"@id\": \"https://locomotive.agency/google/benefits-reasonings-for-google-my-business/\"\n",
      "                    },\n",
      "                    \"url\": \"https://locomotive.agency/google/benefits-reasonings-for-google-my-business/\",\n",
      "                    \"headline\": \"Benefits & Reasonings for Posting in Google My...\",\n",
      "                    \"datePublished\": \"2018-04-25T08:09:19-04:00\",\n",
      "                    \"dateModified\": \"2018-04-25T08:09:19-04:00\",\n",
      "                    \"publisher\": {\n",
      "                        \"@type\": \"Organization\",\n",
      "                        \"@id\": \"https://locomotive.agency/#organization\",\n",
      "                        \"name\": \"LOCOMOTIVE\\u00ae\",\n",
      "                        \"logo\": {\n",
      "                            \"@type\": \"ImageObject\",\n",
      "                            \"url\": \"\",\n",
      "                            \"width\": 600,\n",
      "                            \"height\": 60\n",
      "                        }\n",
      "                    },\n",
      "                    \"image\": {\n",
      "                        \"@type\": \"ImageObject\",\n",
      "                        \"url\": \"https://adaptpartners.com/wp-content/uploads/2018/04/mybusiness-menu.jpg\",\n",
      "                        \"width\": 696,\n",
      "                        \"height\": \"441\"\n",
      "                    },\n",
      "                    \"articleSection\": \"Google\",\n",
      "                    \"description\": \"1). What are Google Posts Posting through Google My Business is a feature that allows businesses to create content that will show up directly in search and maps. These articles are meant to be timely and are meant to share recent business updates, promotions, sales, events, etc. These articles\",\n",
      "                    \"author\": {\n",
      "                        \"@type\": \"Person\",\n",
      "                        \"name\": \"Robert Padgett Cooper\",\n",
      "                        \"url\": \"https://locomotive.agency/author/robert/\",\n",
      "                        \"image\": {\n",
      "                            \"@type\": \"ImageObject\",\n",
      "                            \"url\": \"https://secure.gravatar.com/avatar/02d41950f46b1d28de4941d83a66712c?s=96&d=mm&r=g\",\n",
      "                            \"height\": 96,\n",
      "                            \"width\": 96\n",
      "                        },\n",
      "                        \"sameAs\": [\n",
      "                            \"http://www.locomotiveagency.com\"\n",
      "                        ]\n",
      "                    }\n",
      "                }\n",
      "            ]\n",
      "        },\n",
      "        {\n",
      "            \"@context\": \"http://schema.org\",\n",
      "            \"@type\": \"BreadcrumbList\",\n",
      "            \"itemListElement\": [\n",
      "                {\n",
      "                    \"@type\": \"ListItem\",\n",
      "                    \"position\": 1,\n",
      "                    \"item\": {\n",
      "                        \"@id\": \"https://locomotive.agency\",\n",
      "                        \"name\": \"Home\"\n",
      "                    }\n",
      "                },\n",
      "                {\n",
      "                    \"@type\": \"ListItem\",\n",
      "                    \"position\": 2,\n",
      "                    \"item\": {\n",
      "                        \"@id\": \"/category/google/\",\n",
      "                        \"name\": \"Google\"\n",
      "                    }\n",
      "                }\n",
      "            ]\n",
      "        }\n",
      "    ],\n",
      "    \"segments\": [\n",
      "        \"9446\"\n",
      "    ],\n",
      "    \"app_url\": \"https://app.contentkingapp.com/websites/7-453638/pages/104670956\",\n",
      "    \"time_document_download\": 91,\n",
      "    \"open_issues\": [\n",
      "        {\n",
      "            \"name\": \"images/title_attribute\"\n",
      "        },\n",
      "        {\n",
      "            \"name\": \"images/alt_attribute\"\n",
      "        },\n",
      "        {\n",
      "            \"name\": \"meta_description/missing\"\n",
      "        },\n",
      "        {\n",
      "            \"name\": \"open_graph/description_missing\"\n",
      "        },\n",
      "        {\n",
      "            \"name\": \"open_graph/image_missing\"\n",
      "        },\n",
      "        {\n",
      "            \"name\": \"title/incorrect_length\"\n",
      "        },\n",
      "        {\n",
      "            \"name\": \"twitter_cards/description_missing\"\n",
      "        },\n",
      "        {\n",
      "            \"name\": \"twitter_cards/image_missing\"\n",
      "        },\n",
      "        {\n",
      "            \"name\": \"twitter_cards/site_missing\"\n",
      "        },\n",
      "        {\n",
      "            \"name\": \"xml_sitemap/incorrectly_missing\"\n",
      "        }\n",
      "    ],\n",
      "    \"unstable_last_checked_at\": \"2020-04-22T16:33:49+02:00\"\n",
      "}\n"
     ]
    }
   ],
   "source": [
    "report = 'url'\n",
    "site_id = '7-453638'\n",
    "url = list(results.keys())[10]\n",
    "\n",
    "url_data = ck.load_report(report, id=site_id, url=url)\n",
    "if url_data:\n",
    "    print(json.dumps(url_data, indent=4))"
   ]
  },
  {
   "cell_type": "code",
   "execution_count": 12,
   "metadata": {},
   "outputs": [
    {
     "name": "stdout",
     "output_type": "stream",
     "text": [
      "Now: 2020-04-22T16:36:49+02:00\n",
      "Last Check: 2020-04-22T16:33:49+02:00\n",
      "180\n"
     ]
    }
   ],
   "source": [
    "import pytz\n",
    "from datetime import datetime\n",
    "\n",
    "eu = pytz.timezone('Europe/Amsterdam')\n",
    "\n",
    "t = \"2020-04-22T16:33:49+02:00\"\n",
    "last_check = datetime.fromisoformat(t).astimezone(eu)\n",
    "amsterdam_now = datetime.now().astimezone(eu)\n",
    "\n",
    "print('Now:', amsterdam_now.isoformat(timespec='seconds'))\n",
    "print('Last Check:', last_check.isoformat(timespec='seconds'))\n",
    "\n",
    "td = amsterdam_now - last_check\n",
    "\n",
    "print(td.seconds)"
   ]
  },
  {
   "cell_type": "code",
   "execution_count": null,
   "metadata": {},
   "outputs": [],
   "source": [
    "from pytz import common_timezones\n",
    "_ = [print(t) for t in common_timezones]"
   ]
  },
  {
   "cell_type": "code",
   "execution_count": null,
   "metadata": {},
   "outputs": [],
   "source": [
    "timezone.__str__"
   ]
  }
 ],
 "metadata": {
  "kernelspec": {
   "display_name": "Python 3",
   "language": "python",
   "name": "python3"
  },
  "language_info": {
   "codemirror_mode": {
    "name": "ipython",
    "version": 3
   },
   "file_extension": ".py",
   "mimetype": "text/x-python",
   "name": "python",
   "nbconvert_exporter": "python",
   "pygments_lexer": "ipython3",
   "version": "3.7.7"
  }
 },
 "nbformat": 4,
 "nbformat_minor": 4
}
